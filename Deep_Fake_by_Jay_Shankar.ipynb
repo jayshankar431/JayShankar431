{
  "cells": [
    {
      "cell_type": "markdown",
      "metadata": {
        "id": "view-in-github",
        "colab_type": "text"
      },
      "source": [
        "<a href=\"https://colab.research.google.com/github/jayshankar431/JayShankar431/blob/main/Deep_Fake_by_Jay_Shankar.ipynb\" target=\"_parent\"><img src=\"https://colab.research.google.com/assets/colab-badge.svg\" alt=\"Open In Colab\"/></a>"
      ]
    },
    {
      "cell_type": "markdown",
      "source": [
        "deep Fake by ***JAY SHANKAR*** :https://wa.link/un3aqt"
      ],
      "metadata": {
        "id": "7cKwmmgYAdM6"
      }
    },
    {
      "cell_type": "code",
      "source": [
        "!git clone https://github.com/FurkanGozukara/roop\n",
        "%cd roop\n",
        "!pip install onnxruntime-gpu && pip install -r requirements.txt\n",
        "!pip install onnxruntime-gpu --upgrade\n",
        "!apt-get update --yes\n",
        "!apt install nvidia-cuda-toolkit --yes\n",
        "!pip install opennsfw2 keras --upgrade"
      ],
      "metadata": {
        "collapsed": true,
        "id": "Vt6Otd448xjR"
      },
      "execution_count": null,
      "outputs": []
    },
    {
      "cell_type": "code",
      "source": [
        "%cd \"/content/roop\"\n",
        "!python run.py -s \"/content/20221212_104709_mr1670855167545.jpg\" -t \"/content/aarohiofficial625_1714837857_3360614215681001861_14798078390.mp4\" -o \"face_restored_video3.mp4\" --keep-frames --keep-fps --temp-frame-quality 1 --output-video-quality 1 --execution-provider cuda --frame-processor face_swapper face_enhancer"
      ],
      "metadata": {
        "id": "_j18G_uPqc37",
        "colab": {
          "base_uri": "https://localhost:8080/"
        },
        "outputId": "41b80425-f55a-47a7-b449-89e79ae3c03d"
      },
      "execution_count": 1,
      "outputs": [
        {
          "output_type": "stream",
          "name": "stdout",
          "text": [
            "Processing: 100% 672/672 [04:17<00:00,  2.61frame/s, memory_usage=03.78GB, execution_providers=['CUDAExecutionProvider'], execution_threads=8]\n",
            "[ROOP.CORE] Creating video with 30.0 FPS...\n",
            "[ROOP.CORE] Restoring audio...\n",
            "[ROOP.CORE] Cleaning temporary resources...\n",
            "[ROOP.CORE] Processing to video succeed!\n"
          ]
        }
      ]
    }
  ],
  "metadata": {
    "accelerator": "GPU",
    "colab": {
      "provenance": [],
      "include_colab_link": true
    },
    "kernelspec": {
      "display_name": "Python 3",
      "name": "python3"
    },
    "language_info": {
      "name": "python"
    }
  },
  "nbformat": 4,
  "nbformat_minor": 0
}